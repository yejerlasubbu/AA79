{
  "nbformat": 4,
  "nbformat_minor": 0,
  "metadata": {
    "colab": {
      "name": "task1.ipynb",
      "provenance": [],
      "collapsed_sections": [],
      "mount_file_id": "1DxQkzJp5sPPRBj2z9WqfxmbZrvZvP-js",
      "authorship_tag": "ABX9TyOgyRbNFLjETMDABgQ7t3mp",
      "include_colab_link": true
    },
    "kernelspec": {
      "name": "python3",
      "display_name": "Python 3"
    },
    "language_info": {
      "name": "python"
    }
  },
  "cells": [
    {
      "cell_type": "markdown",
      "metadata": {
        "id": "view-in-github",
        "colab_type": "text"
      },
      "source": [
        "<a href=\"https://colab.research.google.com/github/yejerlasubbu/AA79/blob/master/task1.ipynb\" target=\"_parent\"><img src=\"https://colab.research.google.com/assets/colab-badge.svg\" alt=\"Open In Colab\"/></a>"
      ]
    },
    {
      "cell_type": "code",
      "metadata": {
        "id": "AITQFquv_n33"
      },
      "source": [
        "import numpy as np\n",
        "import pandas as pd\n",
        "import matplotlib.pyplot as plt\n",
        "from sklearn.preprocessing import LabelEncoder\n",
        "from nltk.corpus import stopwords\n",
        "import tensorflow as tf\n",
        "from tensorflow.keras.preprocessing.text import Tokenizer"
      ],
      "execution_count": null,
      "outputs": []
    },
    {
      "cell_type": "code",
      "metadata": {
        "id": "yg-AfvKadtX-"
      },
      "source": [
        "df=pd.read_csv('/content/drive/MyDrive/productreviews.csv')"
      ],
      "execution_count": null,
      "outputs": []
    },
    {
      "cell_type": "code",
      "metadata": {
        "colab": {
          "base_uri": "https://localhost:8080/",
          "height": 203
        },
        "id": "yv1-GyBIemE8",
        "outputId": "2aab9678-7b08-49cf-9082-2abdd85fbc4b"
      },
      "source": [
        "df.head()"
      ],
      "execution_count": null,
      "outputs": [
        {
          "output_type": "execute_result",
          "data": {
            "text/html": [
              "<div>\n",
              "<style scoped>\n",
              "    .dataframe tbody tr th:only-of-type {\n",
              "        vertical-align: middle;\n",
              "    }\n",
              "\n",
              "    .dataframe tbody tr th {\n",
              "        vertical-align: top;\n",
              "    }\n",
              "\n",
              "    .dataframe thead th {\n",
              "        text-align: right;\n",
              "    }\n",
              "</style>\n",
              "<table border=\"1\" class=\"dataframe\">\n",
              "  <thead>\n",
              "    <tr style=\"text-align: right;\">\n",
              "      <th></th>\n",
              "      <th>asin</th>\n",
              "      <th>name</th>\n",
              "      <th>rating</th>\n",
              "      <th>date</th>\n",
              "      <th>verified</th>\n",
              "      <th>title</th>\n",
              "      <th>body</th>\n",
              "      <th>helpfulVotes</th>\n",
              "    </tr>\n",
              "  </thead>\n",
              "  <tbody>\n",
              "    <tr>\n",
              "      <th>0</th>\n",
              "      <td>B0000SX2UC</td>\n",
              "      <td>Janet</td>\n",
              "      <td>3</td>\n",
              "      <td>October 11, 2005</td>\n",
              "      <td>False</td>\n",
              "      <td>Def not best, but not worst</td>\n",
              "      <td>I had the Samsung A600 for awhile which is abs...</td>\n",
              "      <td>1.0</td>\n",
              "    </tr>\n",
              "    <tr>\n",
              "      <th>1</th>\n",
              "      <td>B0000SX2UC</td>\n",
              "      <td>Luke Wyatt</td>\n",
              "      <td>1</td>\n",
              "      <td>January 7, 2004</td>\n",
              "      <td>False</td>\n",
              "      <td>Text Messaging Doesn't Work</td>\n",
              "      <td>Due to a software issue between Nokia and Spri...</td>\n",
              "      <td>17.0</td>\n",
              "    </tr>\n",
              "    <tr>\n",
              "      <th>2</th>\n",
              "      <td>B0000SX2UC</td>\n",
              "      <td>Brooke</td>\n",
              "      <td>5</td>\n",
              "      <td>December 30, 2003</td>\n",
              "      <td>False</td>\n",
              "      <td>Love This Phone</td>\n",
              "      <td>This is a great, reliable phone. I also purcha...</td>\n",
              "      <td>5.0</td>\n",
              "    </tr>\n",
              "    <tr>\n",
              "      <th>3</th>\n",
              "      <td>B0000SX2UC</td>\n",
              "      <td>amy m. teague</td>\n",
              "      <td>3</td>\n",
              "      <td>March 18, 2004</td>\n",
              "      <td>False</td>\n",
              "      <td>Love the Phone, BUT...!</td>\n",
              "      <td>I love the phone and all, because I really did...</td>\n",
              "      <td>1.0</td>\n",
              "    </tr>\n",
              "    <tr>\n",
              "      <th>4</th>\n",
              "      <td>B0000SX2UC</td>\n",
              "      <td>tristazbimmer</td>\n",
              "      <td>4</td>\n",
              "      <td>August 28, 2005</td>\n",
              "      <td>False</td>\n",
              "      <td>Great phone service and options, lousy case!</td>\n",
              "      <td>The phone has been great for every purpose it ...</td>\n",
              "      <td>1.0</td>\n",
              "    </tr>\n",
              "  </tbody>\n",
              "</table>\n",
              "</div>"
            ],
            "text/plain": [
              "         asin  ... helpfulVotes\n",
              "0  B0000SX2UC  ...          1.0\n",
              "1  B0000SX2UC  ...         17.0\n",
              "2  B0000SX2UC  ...          5.0\n",
              "3  B0000SX2UC  ...          1.0\n",
              "4  B0000SX2UC  ...          1.0\n",
              "\n",
              "[5 rows x 8 columns]"
            ]
          },
          "metadata": {
            "tags": []
          },
          "execution_count": 4
        }
      ]
    },
    {
      "cell_type": "code",
      "metadata": {
        "colab": {
          "base_uri": "https://localhost:8080/",
          "height": 203
        },
        "id": "tgLJZ95vfWv0",
        "outputId": "d882bc29-5ab6-478c-ab07-7def68c7e627"
      },
      "source": [
        "df=df.drop(['asin','name','date','verified','helpfulVotes'],axis=1)\n",
        "df.head()"
      ],
      "execution_count": null,
      "outputs": [
        {
          "output_type": "execute_result",
          "data": {
            "text/html": [
              "<div>\n",
              "<style scoped>\n",
              "    .dataframe tbody tr th:only-of-type {\n",
              "        vertical-align: middle;\n",
              "    }\n",
              "\n",
              "    .dataframe tbody tr th {\n",
              "        vertical-align: top;\n",
              "    }\n",
              "\n",
              "    .dataframe thead th {\n",
              "        text-align: right;\n",
              "    }\n",
              "</style>\n",
              "<table border=\"1\" class=\"dataframe\">\n",
              "  <thead>\n",
              "    <tr style=\"text-align: right;\">\n",
              "      <th></th>\n",
              "      <th>rating</th>\n",
              "      <th>title</th>\n",
              "      <th>body</th>\n",
              "    </tr>\n",
              "  </thead>\n",
              "  <tbody>\n",
              "    <tr>\n",
              "      <th>0</th>\n",
              "      <td>3</td>\n",
              "      <td>Def not best, but not worst</td>\n",
              "      <td>I had the Samsung A600 for awhile which is abs...</td>\n",
              "    </tr>\n",
              "    <tr>\n",
              "      <th>1</th>\n",
              "      <td>1</td>\n",
              "      <td>Text Messaging Doesn't Work</td>\n",
              "      <td>Due to a software issue between Nokia and Spri...</td>\n",
              "    </tr>\n",
              "    <tr>\n",
              "      <th>2</th>\n",
              "      <td>5</td>\n",
              "      <td>Love This Phone</td>\n",
              "      <td>This is a great, reliable phone. I also purcha...</td>\n",
              "    </tr>\n",
              "    <tr>\n",
              "      <th>3</th>\n",
              "      <td>3</td>\n",
              "      <td>Love the Phone, BUT...!</td>\n",
              "      <td>I love the phone and all, because I really did...</td>\n",
              "    </tr>\n",
              "    <tr>\n",
              "      <th>4</th>\n",
              "      <td>4</td>\n",
              "      <td>Great phone service and options, lousy case!</td>\n",
              "      <td>The phone has been great for every purpose it ...</td>\n",
              "    </tr>\n",
              "  </tbody>\n",
              "</table>\n",
              "</div>"
            ],
            "text/plain": [
              "   rating  ...                                               body\n",
              "0       3  ...  I had the Samsung A600 for awhile which is abs...\n",
              "1       1  ...  Due to a software issue between Nokia and Spri...\n",
              "2       5  ...  This is a great, reliable phone. I also purcha...\n",
              "3       3  ...  I love the phone and all, because I really did...\n",
              "4       4  ...  The phone has been great for every purpose it ...\n",
              "\n",
              "[5 rows x 3 columns]"
            ]
          },
          "metadata": {
            "tags": []
          },
          "execution_count": 5
        }
      ]
    },
    {
      "cell_type": "code",
      "metadata": {
        "id": "Fsgb5U8VgplO",
        "colab": {
          "base_uri": "https://localhost:8080/",
          "height": 203
        },
        "outputId": "f72651f2-d8ed-476e-aa29-049fa9488524"
      },
      "source": [
        "df['sentiment']=df['rating'].apply(lambda x:'negative' if x<=3 else 'positive')\n",
        "reviews_df=df[['rating','sentiment','title','body']]\n",
        "reviews_df.head()"
      ],
      "execution_count": null,
      "outputs": [
        {
          "output_type": "execute_result",
          "data": {
            "text/html": [
              "<div>\n",
              "<style scoped>\n",
              "    .dataframe tbody tr th:only-of-type {\n",
              "        vertical-align: middle;\n",
              "    }\n",
              "\n",
              "    .dataframe tbody tr th {\n",
              "        vertical-align: top;\n",
              "    }\n",
              "\n",
              "    .dataframe thead th {\n",
              "        text-align: right;\n",
              "    }\n",
              "</style>\n",
              "<table border=\"1\" class=\"dataframe\">\n",
              "  <thead>\n",
              "    <tr style=\"text-align: right;\">\n",
              "      <th></th>\n",
              "      <th>rating</th>\n",
              "      <th>sentiment</th>\n",
              "      <th>title</th>\n",
              "      <th>body</th>\n",
              "    </tr>\n",
              "  </thead>\n",
              "  <tbody>\n",
              "    <tr>\n",
              "      <th>0</th>\n",
              "      <td>3</td>\n",
              "      <td>negative</td>\n",
              "      <td>Def not best, but not worst</td>\n",
              "      <td>I had the Samsung A600 for awhile which is abs...</td>\n",
              "    </tr>\n",
              "    <tr>\n",
              "      <th>1</th>\n",
              "      <td>1</td>\n",
              "      <td>negative</td>\n",
              "      <td>Text Messaging Doesn't Work</td>\n",
              "      <td>Due to a software issue between Nokia and Spri...</td>\n",
              "    </tr>\n",
              "    <tr>\n",
              "      <th>2</th>\n",
              "      <td>5</td>\n",
              "      <td>positive</td>\n",
              "      <td>Love This Phone</td>\n",
              "      <td>This is a great, reliable phone. I also purcha...</td>\n",
              "    </tr>\n",
              "    <tr>\n",
              "      <th>3</th>\n",
              "      <td>3</td>\n",
              "      <td>negative</td>\n",
              "      <td>Love the Phone, BUT...!</td>\n",
              "      <td>I love the phone and all, because I really did...</td>\n",
              "    </tr>\n",
              "    <tr>\n",
              "      <th>4</th>\n",
              "      <td>4</td>\n",
              "      <td>positive</td>\n",
              "      <td>Great phone service and options, lousy case!</td>\n",
              "      <td>The phone has been great for every purpose it ...</td>\n",
              "    </tr>\n",
              "  </tbody>\n",
              "</table>\n",
              "</div>"
            ],
            "text/plain": [
              "   rating  ...                                               body\n",
              "0       3  ...  I had the Samsung A600 for awhile which is abs...\n",
              "1       1  ...  Due to a software issue between Nokia and Spri...\n",
              "2       5  ...  This is a great, reliable phone. I also purcha...\n",
              "3       3  ...  I love the phone and all, because I really did...\n",
              "4       4  ...  The phone has been great for every purpose it ...\n",
              "\n",
              "[5 rows x 4 columns]"
            ]
          },
          "metadata": {
            "tags": []
          },
          "execution_count": 6
        }
      ]
    },
    {
      "cell_type": "code",
      "metadata": {
        "colab": {
          "base_uri": "https://localhost:8080/",
          "height": 357
        },
        "id": "CBNmo1wOY1Ej",
        "outputId": "4b8a1a50-607c-43f0-a0dd-9edd82de2f03"
      },
      "source": [
        "reviews_df.head(n=10)"
      ],
      "execution_count": null,
      "outputs": [
        {
          "output_type": "execute_result",
          "data": {
            "text/html": [
              "<div>\n",
              "<style scoped>\n",
              "    .dataframe tbody tr th:only-of-type {\n",
              "        vertical-align: middle;\n",
              "    }\n",
              "\n",
              "    .dataframe tbody tr th {\n",
              "        vertical-align: top;\n",
              "    }\n",
              "\n",
              "    .dataframe thead th {\n",
              "        text-align: right;\n",
              "    }\n",
              "</style>\n",
              "<table border=\"1\" class=\"dataframe\">\n",
              "  <thead>\n",
              "    <tr style=\"text-align: right;\">\n",
              "      <th></th>\n",
              "      <th>rating</th>\n",
              "      <th>sentiment</th>\n",
              "      <th>title</th>\n",
              "      <th>body</th>\n",
              "    </tr>\n",
              "  </thead>\n",
              "  <tbody>\n",
              "    <tr>\n",
              "      <th>0</th>\n",
              "      <td>3</td>\n",
              "      <td>negative</td>\n",
              "      <td>Def not best, but not worst</td>\n",
              "      <td>I had the Samsung A600 for awhile which is abs...</td>\n",
              "    </tr>\n",
              "    <tr>\n",
              "      <th>1</th>\n",
              "      <td>1</td>\n",
              "      <td>negative</td>\n",
              "      <td>Text Messaging Doesn't Work</td>\n",
              "      <td>Due to a software issue between Nokia and Spri...</td>\n",
              "    </tr>\n",
              "    <tr>\n",
              "      <th>2</th>\n",
              "      <td>5</td>\n",
              "      <td>positive</td>\n",
              "      <td>Love This Phone</td>\n",
              "      <td>This is a great, reliable phone. I also purcha...</td>\n",
              "    </tr>\n",
              "    <tr>\n",
              "      <th>3</th>\n",
              "      <td>3</td>\n",
              "      <td>negative</td>\n",
              "      <td>Love the Phone, BUT...!</td>\n",
              "      <td>I love the phone and all, because I really did...</td>\n",
              "    </tr>\n",
              "    <tr>\n",
              "      <th>4</th>\n",
              "      <td>4</td>\n",
              "      <td>positive</td>\n",
              "      <td>Great phone service and options, lousy case!</td>\n",
              "      <td>The phone has been great for every purpose it ...</td>\n",
              "    </tr>\n",
              "    <tr>\n",
              "      <th>5</th>\n",
              "      <td>4</td>\n",
              "      <td>positive</td>\n",
              "      <td>Worked great for me</td>\n",
              "      <td>Hello, I have this phone and used it until I d...</td>\n",
              "    </tr>\n",
              "    <tr>\n",
              "      <th>6</th>\n",
              "      <td>5</td>\n",
              "      <td>positive</td>\n",
              "      <td>Wanna cool Nokia? You have it here!</td>\n",
              "      <td>Cool. Cheap. Color: 3 words that describe the ...</td>\n",
              "    </tr>\n",
              "    <tr>\n",
              "      <th>7</th>\n",
              "      <td>4</td>\n",
              "      <td>positive</td>\n",
              "      <td>Problem with 3588i universal headset</td>\n",
              "      <td>The 3599i is overall a nice phone, except that...</td>\n",
              "    </tr>\n",
              "    <tr>\n",
              "      <th>8</th>\n",
              "      <td>5</td>\n",
              "      <td>positive</td>\n",
              "      <td>cool phone!!!!!!!!</td>\n",
              "      <td>I've never owned a Nokia phone before, so this...</td>\n",
              "    </tr>\n",
              "    <tr>\n",
              "      <th>9</th>\n",
              "      <td>3</td>\n",
              "      <td>negative</td>\n",
              "      <td>Pissed off-a little bit</td>\n",
              "      <td>ok well im in school and i need the text messa...</td>\n",
              "    </tr>\n",
              "  </tbody>\n",
              "</table>\n",
              "</div>"
            ],
            "text/plain": [
              "   rating  ...                                               body\n",
              "0       3  ...  I had the Samsung A600 for awhile which is abs...\n",
              "1       1  ...  Due to a software issue between Nokia and Spri...\n",
              "2       5  ...  This is a great, reliable phone. I also purcha...\n",
              "3       3  ...  I love the phone and all, because I really did...\n",
              "4       4  ...  The phone has been great for every purpose it ...\n",
              "5       4  ...  Hello, I have this phone and used it until I d...\n",
              "6       5  ...  Cool. Cheap. Color: 3 words that describe the ...\n",
              "7       4  ...  The 3599i is overall a nice phone, except that...\n",
              "8       5  ...  I've never owned a Nokia phone before, so this...\n",
              "9       3  ...  ok well im in school and i need the text messa...\n",
              "\n",
              "[10 rows x 4 columns]"
            ]
          },
          "metadata": {
            "tags": []
          },
          "execution_count": 7
        }
      ]
    },
    {
      "cell_type": "markdown",
      "metadata": {
        "id": "niHx4Fm9Ozl7"
      },
      "source": [
        "DATA PREPROCESSING"
      ]
    },
    {
      "cell_type": "code",
      "metadata": {
        "id": "1Nkwq7xHaEgC"
      },
      "source": [
        "import nltk\n",
        "from nltk.corpus import wordnet\n",
        "def get_wordnet_pos(pos_tag):\n",
        "  if pos_tag.startswith('J'):\n",
        "    return wordnet.ADJ\n",
        "  elif pos_tag.startswith('V'):\n",
        "    return wordnet.VERB\n",
        "  elif pos_tag.startswith('N'):\n",
        "    return wordnet.NOUN\n",
        "  elif pos_tag.startswith('R'):\n",
        "    return wordnet.ADV\n",
        "  else:\n",
        "    return wordnet.NOUN"
      ],
      "execution_count": null,
      "outputs": []
    },
    {
      "cell_type": "code",
      "metadata": {
        "id": "-YxAn07udI29",
        "colab": {
          "base_uri": "https://localhost:8080/"
        },
        "outputId": "a7a6cdf3-1620-423b-c0d8-8ac05fb98ddd"
      },
      "source": [
        "import string\n",
        "import nltk\n",
        "nltk.download('stopwords')\n",
        "nltk.download('wordnet')\n",
        "nltk.download('averaged_perceptron_tagger')\n",
        "from nltk.corpus import wordnet\n",
        "from nltk import pos_tag\n",
        "from nltk.corpus import stopwords\n",
        "from nltk.tokenize import WhitespaceTokenizer\n",
        "from nltk.stem import WordNetLemmatizer\n",
        "\n",
        "def clean_text(text):\n",
        "  text=str(text).lower()\n",
        "  text=[word.strip(string.punctuation) for word in text.split(\" \")]\n",
        "  text=[word for word in text if not any(c.isdigit() for c in word)]\n",
        "  stop=stopwords.words('english')\n",
        "  text=[x for x in text if x not in stop]\n",
        "  text=[t for t in text if len(t)>0]\n",
        "  pos_tags=pos_tag(text)\n",
        "  text = [WordNetLemmatizer().lemmatize(t[0], get_wordnet_pos(t[1])) for t in pos_tags]\n",
        "  text = [t for t in text if len(t) > 1]\n",
        "  text = \" \".join(text)\n",
        "  return(text)\n",
        "\n",
        "#clean the data\n",
        "reviews_df['review_clean']=reviews_df['body']\n",
        "reviews_df[\"review_clean\"] = reviews_df[\"review_clean\"].apply(lambda x: clean_text(x))"
      ],
      "execution_count": null,
      "outputs": [
        {
          "output_type": "stream",
          "text": [
            "[nltk_data] Downloading package stopwords to /root/nltk_data...\n",
            "[nltk_data]   Unzipping corpora/stopwords.zip.\n",
            "[nltk_data] Downloading package wordnet to /root/nltk_data...\n",
            "[nltk_data]   Unzipping corpora/wordnet.zip.\n",
            "[nltk_data] Downloading package averaged_perceptron_tagger to\n",
            "[nltk_data]     /root/nltk_data...\n",
            "[nltk_data]   Unzipping taggers/averaged_perceptron_tagger.zip.\n"
          ],
          "name": "stdout"
        },
        {
          "output_type": "stream",
          "text": [
            "/usr/local/lib/python3.7/dist-packages/ipykernel_launcher.py:26: SettingWithCopyWarning: \n",
            "A value is trying to be set on a copy of a slice from a DataFrame.\n",
            "Try using .loc[row_indexer,col_indexer] = value instead\n",
            "\n",
            "See the caveats in the documentation: https://pandas.pydata.org/pandas-docs/stable/user_guide/indexing.html#returning-a-view-versus-a-copy\n",
            "/usr/local/lib/python3.7/dist-packages/ipykernel_launcher.py:27: SettingWithCopyWarning: \n",
            "A value is trying to be set on a copy of a slice from a DataFrame.\n",
            "Try using .loc[row_indexer,col_indexer] = value instead\n",
            "\n",
            "See the caveats in the documentation: https://pandas.pydata.org/pandas-docs/stable/user_guide/indexing.html#returning-a-view-versus-a-copy\n"
          ],
          "name": "stderr"
        }
      ]
    },
    {
      "cell_type": "code",
      "metadata": {
        "colab": {
          "base_uri": "https://localhost:8080/"
        },
        "id": "Djt-Sqncfhc0",
        "outputId": "f7b58212-bdcd-4c05-a375-7e36de1869a3"
      },
      "source": [
        "reviews_df['review_clean'].head(10)"
      ],
      "execution_count": null,
      "outputs": [
        {
          "output_type": "execute_result",
          "data": {
            "text/plain": [
              "0    samsung awhile absolute doo doo read review de...\n",
              "1    due software issue nokia sprint phone's text m...\n",
              "2    great reliable phone also purchase phone samsu...\n",
              "3    love phone really need one expect price bill r...\n",
              "4    phone great every purpose offer except day buy...\n",
              "5    hello phone use decide buy flip phone problem ...\n",
              "6    cool cheap color word describe nokia perfectly...\n",
              "7    overall nice phone except nokia make universal...\n",
              "8    i've never own nokia phone first really like p...\n",
              "9    ok well im school need text message ive phone ...\n",
              "Name: review_clean, dtype: object"
            ]
          },
          "metadata": {
            "tags": []
          },
          "execution_count": 10
        }
      ]
    },
    {
      "cell_type": "code",
      "metadata": {
        "colab": {
          "base_uri": "https://localhost:8080/",
          "height": 203
        },
        "id": "87NG_Dm4gXqx",
        "outputId": "66061c6b-2fe8-4f2a-eb13-8295feafb120"
      },
      "source": [
        "reviews_df.head()"
      ],
      "execution_count": null,
      "outputs": [
        {
          "output_type": "execute_result",
          "data": {
            "text/html": [
              "<div>\n",
              "<style scoped>\n",
              "    .dataframe tbody tr th:only-of-type {\n",
              "        vertical-align: middle;\n",
              "    }\n",
              "\n",
              "    .dataframe tbody tr th {\n",
              "        vertical-align: top;\n",
              "    }\n",
              "\n",
              "    .dataframe thead th {\n",
              "        text-align: right;\n",
              "    }\n",
              "</style>\n",
              "<table border=\"1\" class=\"dataframe\">\n",
              "  <thead>\n",
              "    <tr style=\"text-align: right;\">\n",
              "      <th></th>\n",
              "      <th>rating</th>\n",
              "      <th>sentiment</th>\n",
              "      <th>title</th>\n",
              "      <th>body</th>\n",
              "      <th>review_clean</th>\n",
              "    </tr>\n",
              "  </thead>\n",
              "  <tbody>\n",
              "    <tr>\n",
              "      <th>0</th>\n",
              "      <td>3</td>\n",
              "      <td>negative</td>\n",
              "      <td>Def not best, but not worst</td>\n",
              "      <td>I had the Samsung A600 for awhile which is abs...</td>\n",
              "      <td>samsung awhile absolute doo doo read review de...</td>\n",
              "    </tr>\n",
              "    <tr>\n",
              "      <th>1</th>\n",
              "      <td>1</td>\n",
              "      <td>negative</td>\n",
              "      <td>Text Messaging Doesn't Work</td>\n",
              "      <td>Due to a software issue between Nokia and Spri...</td>\n",
              "      <td>due software issue nokia sprint phone's text m...</td>\n",
              "    </tr>\n",
              "    <tr>\n",
              "      <th>2</th>\n",
              "      <td>5</td>\n",
              "      <td>positive</td>\n",
              "      <td>Love This Phone</td>\n",
              "      <td>This is a great, reliable phone. I also purcha...</td>\n",
              "      <td>great reliable phone also purchase phone samsu...</td>\n",
              "    </tr>\n",
              "    <tr>\n",
              "      <th>3</th>\n",
              "      <td>3</td>\n",
              "      <td>negative</td>\n",
              "      <td>Love the Phone, BUT...!</td>\n",
              "      <td>I love the phone and all, because I really did...</td>\n",
              "      <td>love phone really need one expect price bill r...</td>\n",
              "    </tr>\n",
              "    <tr>\n",
              "      <th>4</th>\n",
              "      <td>4</td>\n",
              "      <td>positive</td>\n",
              "      <td>Great phone service and options, lousy case!</td>\n",
              "      <td>The phone has been great for every purpose it ...</td>\n",
              "      <td>phone great every purpose offer except day buy...</td>\n",
              "    </tr>\n",
              "  </tbody>\n",
              "</table>\n",
              "</div>"
            ],
            "text/plain": [
              "   rating  ...                                       review_clean\n",
              "0       3  ...  samsung awhile absolute doo doo read review de...\n",
              "1       1  ...  due software issue nokia sprint phone's text m...\n",
              "2       5  ...  great reliable phone also purchase phone samsu...\n",
              "3       3  ...  love phone really need one expect price bill r...\n",
              "4       4  ...  phone great every purpose offer except day buy...\n",
              "\n",
              "[5 rows x 5 columns]"
            ]
          },
          "metadata": {
            "tags": []
          },
          "execution_count": 11
        }
      ]
    },
    {
      "cell_type": "code",
      "metadata": {
        "colab": {
          "base_uri": "https://localhost:8080/"
        },
        "id": "9b_Mm2xriZqh",
        "outputId": "45e0314d-1eea-4cab-8587-4e0e5d0cc269"
      },
      "source": [
        "nltk.download('punkt')\n",
        "from nltk.tokenize import word_tokenize\n",
        "comment_list=list()\n",
        "lines=reviews_df['review_clean'].values.tolist()\n",
        "\n",
        "for line in lines:\n",
        "  tokens=word_tokenize(line)\n",
        "  comment_list.append(tokens)"
      ],
      "execution_count": null,
      "outputs": [
        {
          "output_type": "stream",
          "text": [
            "[nltk_data] Downloading package punkt to /root/nltk_data...\n",
            "[nltk_data]   Unzipping tokenizers/punkt.zip.\n"
          ],
          "name": "stdout"
        }
      ]
    },
    {
      "cell_type": "code",
      "metadata": {
        "colab": {
          "base_uri": "https://localhost:8080/",
          "height": 203
        },
        "id": "RHv3v3HurND8",
        "outputId": "e41ba27a-0f5a-4790-8992-6465af16fdea"
      },
      "source": [
        "reviews_df.head()"
      ],
      "execution_count": null,
      "outputs": [
        {
          "output_type": "execute_result",
          "data": {
            "text/html": [
              "<div>\n",
              "<style scoped>\n",
              "    .dataframe tbody tr th:only-of-type {\n",
              "        vertical-align: middle;\n",
              "    }\n",
              "\n",
              "    .dataframe tbody tr th {\n",
              "        vertical-align: top;\n",
              "    }\n",
              "\n",
              "    .dataframe thead th {\n",
              "        text-align: right;\n",
              "    }\n",
              "</style>\n",
              "<table border=\"1\" class=\"dataframe\">\n",
              "  <thead>\n",
              "    <tr style=\"text-align: right;\">\n",
              "      <th></th>\n",
              "      <th>rating</th>\n",
              "      <th>sentiment</th>\n",
              "      <th>title</th>\n",
              "      <th>body</th>\n",
              "      <th>review_clean</th>\n",
              "    </tr>\n",
              "  </thead>\n",
              "  <tbody>\n",
              "    <tr>\n",
              "      <th>0</th>\n",
              "      <td>3</td>\n",
              "      <td>negative</td>\n",
              "      <td>Def not best, but not worst</td>\n",
              "      <td>I had the Samsung A600 for awhile which is abs...</td>\n",
              "      <td>samsung awhile absolute doo doo read review de...</td>\n",
              "    </tr>\n",
              "    <tr>\n",
              "      <th>1</th>\n",
              "      <td>1</td>\n",
              "      <td>negative</td>\n",
              "      <td>Text Messaging Doesn't Work</td>\n",
              "      <td>Due to a software issue between Nokia and Spri...</td>\n",
              "      <td>due software issue nokia sprint phone's text m...</td>\n",
              "    </tr>\n",
              "    <tr>\n",
              "      <th>2</th>\n",
              "      <td>5</td>\n",
              "      <td>positive</td>\n",
              "      <td>Love This Phone</td>\n",
              "      <td>This is a great, reliable phone. I also purcha...</td>\n",
              "      <td>great reliable phone also purchase phone samsu...</td>\n",
              "    </tr>\n",
              "    <tr>\n",
              "      <th>3</th>\n",
              "      <td>3</td>\n",
              "      <td>negative</td>\n",
              "      <td>Love the Phone, BUT...!</td>\n",
              "      <td>I love the phone and all, because I really did...</td>\n",
              "      <td>love phone really need one expect price bill r...</td>\n",
              "    </tr>\n",
              "    <tr>\n",
              "      <th>4</th>\n",
              "      <td>4</td>\n",
              "      <td>positive</td>\n",
              "      <td>Great phone service and options, lousy case!</td>\n",
              "      <td>The phone has been great for every purpose it ...</td>\n",
              "      <td>phone great every purpose offer except day buy...</td>\n",
              "    </tr>\n",
              "  </tbody>\n",
              "</table>\n",
              "</div>"
            ],
            "text/plain": [
              "   rating  ...                                       review_clean\n",
              "0       3  ...  samsung awhile absolute doo doo read review de...\n",
              "1       1  ...  due software issue nokia sprint phone's text m...\n",
              "2       5  ...  great reliable phone also purchase phone samsu...\n",
              "3       3  ...  love phone really need one expect price bill r...\n",
              "4       4  ...  phone great every purpose offer except day buy...\n",
              "\n",
              "[5 rows x 5 columns]"
            ]
          },
          "metadata": {
            "tags": []
          },
          "execution_count": 13
        }
      ]
    },
    {
      "cell_type": "code",
      "metadata": {
        "colab": {
          "base_uri": "https://localhost:8080/",
          "height": 203
        },
        "id": "BC-3WSoR8ehu",
        "outputId": "f5ba2236-383d-43d4-bdad-62e3b2962c3b"
      },
      "source": [
        "reviews_df.head()"
      ],
      "execution_count": null,
      "outputs": [
        {
          "output_type": "execute_result",
          "data": {
            "text/html": [
              "<div>\n",
              "<style scoped>\n",
              "    .dataframe tbody tr th:only-of-type {\n",
              "        vertical-align: middle;\n",
              "    }\n",
              "\n",
              "    .dataframe tbody tr th {\n",
              "        vertical-align: top;\n",
              "    }\n",
              "\n",
              "    .dataframe thead th {\n",
              "        text-align: right;\n",
              "    }\n",
              "</style>\n",
              "<table border=\"1\" class=\"dataframe\">\n",
              "  <thead>\n",
              "    <tr style=\"text-align: right;\">\n",
              "      <th></th>\n",
              "      <th>rating</th>\n",
              "      <th>sentiment</th>\n",
              "      <th>title</th>\n",
              "      <th>body</th>\n",
              "      <th>review_clean</th>\n",
              "    </tr>\n",
              "  </thead>\n",
              "  <tbody>\n",
              "    <tr>\n",
              "      <th>0</th>\n",
              "      <td>3</td>\n",
              "      <td>negative</td>\n",
              "      <td>Def not best, but not worst</td>\n",
              "      <td>I had the Samsung A600 for awhile which is abs...</td>\n",
              "      <td>samsung awhile absolute doo doo read review de...</td>\n",
              "    </tr>\n",
              "    <tr>\n",
              "      <th>1</th>\n",
              "      <td>1</td>\n",
              "      <td>negative</td>\n",
              "      <td>Text Messaging Doesn't Work</td>\n",
              "      <td>Due to a software issue between Nokia and Spri...</td>\n",
              "      <td>due software issue nokia sprint phone's text m...</td>\n",
              "    </tr>\n",
              "    <tr>\n",
              "      <th>2</th>\n",
              "      <td>5</td>\n",
              "      <td>positive</td>\n",
              "      <td>Love This Phone</td>\n",
              "      <td>This is a great, reliable phone. I also purcha...</td>\n",
              "      <td>great reliable phone also purchase phone samsu...</td>\n",
              "    </tr>\n",
              "    <tr>\n",
              "      <th>3</th>\n",
              "      <td>3</td>\n",
              "      <td>negative</td>\n",
              "      <td>Love the Phone, BUT...!</td>\n",
              "      <td>I love the phone and all, because I really did...</td>\n",
              "      <td>love phone really need one expect price bill r...</td>\n",
              "    </tr>\n",
              "    <tr>\n",
              "      <th>4</th>\n",
              "      <td>4</td>\n",
              "      <td>positive</td>\n",
              "      <td>Great phone service and options, lousy case!</td>\n",
              "      <td>The phone has been great for every purpose it ...</td>\n",
              "      <td>phone great every purpose offer except day buy...</td>\n",
              "    </tr>\n",
              "  </tbody>\n",
              "</table>\n",
              "</div>"
            ],
            "text/plain": [
              "   rating  ...                                       review_clean\n",
              "0       3  ...  samsung awhile absolute doo doo read review de...\n",
              "1       1  ...  due software issue nokia sprint phone's text m...\n",
              "2       5  ...  great reliable phone also purchase phone samsu...\n",
              "3       3  ...  love phone really need one expect price bill r...\n",
              "4       4  ...  phone great every purpose offer except day buy...\n",
              "\n",
              "[5 rows x 5 columns]"
            ]
          },
          "metadata": {
            "tags": []
          },
          "execution_count": 14
        }
      ]
    },
    {
      "cell_type": "code",
      "metadata": {
        "id": "JSJY0mAD0nB3"
      },
      "source": [
        "target_values={'negative':0 ,'positive':1}\n",
        "target=reviews_df['sentiment']\n",
        "reviews_df.drop('sentiment',axis=1,inplace=True)\n",
        "target=target.map(target_values)"
      ],
      "execution_count": null,
      "outputs": []
    },
    {
      "cell_type": "code",
      "metadata": {
        "colab": {
          "base_uri": "https://localhost:8080/",
          "height": 203
        },
        "id": "mo6e6QTBCCKo",
        "outputId": "e4ceaacc-22a0-45d1-aebb-5df4e94dc90e"
      },
      "source": [
        "reviews_df=pd.concat([target,reviews_df],axis=1)\n",
        "reviews_df.head()"
      ],
      "execution_count": null,
      "outputs": [
        {
          "output_type": "execute_result",
          "data": {
            "text/html": [
              "<div>\n",
              "<style scoped>\n",
              "    .dataframe tbody tr th:only-of-type {\n",
              "        vertical-align: middle;\n",
              "    }\n",
              "\n",
              "    .dataframe tbody tr th {\n",
              "        vertical-align: top;\n",
              "    }\n",
              "\n",
              "    .dataframe thead th {\n",
              "        text-align: right;\n",
              "    }\n",
              "</style>\n",
              "<table border=\"1\" class=\"dataframe\">\n",
              "  <thead>\n",
              "    <tr style=\"text-align: right;\">\n",
              "      <th></th>\n",
              "      <th>sentiment</th>\n",
              "      <th>rating</th>\n",
              "      <th>title</th>\n",
              "      <th>body</th>\n",
              "      <th>review_clean</th>\n",
              "    </tr>\n",
              "  </thead>\n",
              "  <tbody>\n",
              "    <tr>\n",
              "      <th>0</th>\n",
              "      <td>0</td>\n",
              "      <td>3</td>\n",
              "      <td>Def not best, but not worst</td>\n",
              "      <td>I had the Samsung A600 for awhile which is abs...</td>\n",
              "      <td>samsung awhile absolute doo doo read review de...</td>\n",
              "    </tr>\n",
              "    <tr>\n",
              "      <th>1</th>\n",
              "      <td>0</td>\n",
              "      <td>1</td>\n",
              "      <td>Text Messaging Doesn't Work</td>\n",
              "      <td>Due to a software issue between Nokia and Spri...</td>\n",
              "      <td>due software issue nokia sprint phone's text m...</td>\n",
              "    </tr>\n",
              "    <tr>\n",
              "      <th>2</th>\n",
              "      <td>1</td>\n",
              "      <td>5</td>\n",
              "      <td>Love This Phone</td>\n",
              "      <td>This is a great, reliable phone. I also purcha...</td>\n",
              "      <td>great reliable phone also purchase phone samsu...</td>\n",
              "    </tr>\n",
              "    <tr>\n",
              "      <th>3</th>\n",
              "      <td>0</td>\n",
              "      <td>3</td>\n",
              "      <td>Love the Phone, BUT...!</td>\n",
              "      <td>I love the phone and all, because I really did...</td>\n",
              "      <td>love phone really need one expect price bill r...</td>\n",
              "    </tr>\n",
              "    <tr>\n",
              "      <th>4</th>\n",
              "      <td>1</td>\n",
              "      <td>4</td>\n",
              "      <td>Great phone service and options, lousy case!</td>\n",
              "      <td>The phone has been great for every purpose it ...</td>\n",
              "      <td>phone great every purpose offer except day buy...</td>\n",
              "    </tr>\n",
              "  </tbody>\n",
              "</table>\n",
              "</div>"
            ],
            "text/plain": [
              "   sentiment  ...                                       review_clean\n",
              "0          0  ...  samsung awhile absolute doo doo read review de...\n",
              "1          0  ...  due software issue nokia sprint phone's text m...\n",
              "2          1  ...  great reliable phone also purchase phone samsu...\n",
              "3          0  ...  love phone really need one expect price bill r...\n",
              "4          1  ...  phone great every purpose offer except day buy...\n",
              "\n",
              "[5 rows x 5 columns]"
            ]
          },
          "metadata": {
            "tags": []
          },
          "execution_count": 16
        }
      ]
    },
    {
      "cell_type": "code",
      "metadata": {
        "colab": {
          "base_uri": "https://localhost:8080/"
        },
        "id": "JKSIIM_rYL_a",
        "outputId": "de3338ad-36c7-4fd6-a7cd-816977a02a00"
      },
      "source": [
        "reviews_df.shape"
      ],
      "execution_count": null,
      "outputs": [
        {
          "output_type": "execute_result",
          "data": {
            "text/plain": [
              "(67986, 5)"
            ]
          },
          "metadata": {
            "tags": []
          },
          "execution_count": 17
        }
      ]
    },
    {
      "cell_type": "code",
      "metadata": {
        "id": "qbHVDsAWChMG"
      },
      "source": [
        "sentences=reviews_df.review_clean\n",
        "labels=reviews_df.sentiment"
      ],
      "execution_count": null,
      "outputs": []
    },
    {
      "cell_type": "code",
      "metadata": {
        "id": "C4Ac-fEmDDbx"
      },
      "source": [
        "embedding_dim=100\n",
        "max_length=16\n",
        "trunc_type='post'\n",
        "padding_type='post'\n",
        "oov_tok='<OOV>'"
      ],
      "execution_count": null,
      "outputs": []
    },
    {
      "cell_type": "code",
      "metadata": {
        "id": "sbAh4jUYDkg1",
        "colab": {
          "base_uri": "https://localhost:8080/"
        },
        "outputId": "e437f2e1-5380-4229-8b07-05bcfb27f5d9"
      },
      "source": [
        "from tensorflow import keras\n",
        "from tensorflow.keras.preprocessing.text import Tokenizer\n",
        "from tensorflow.keras.preprocessing.sequence import pad_sequences\n",
        "from sklearn.model_selection import train_test_split\n",
        "\n",
        "tokenizer=Tokenizer()\n",
        "tokenizer.fit_on_texts(sentences)\n",
        "word_index=tokenizer.word_index\n",
        "vocab_size=len(word_index)\n",
        "print(vocab_size)\n",
        "sequences=tokenizer.texts_to_sequences(sentences)\n",
        "padded=pad_sequences(sequences,maxlen=max_length,padding=padding_type,truncating=trunc_type)"
      ],
      "execution_count": null,
      "outputs": [
        {
          "output_type": "stream",
          "text": [
            "30438\n"
          ],
          "name": "stdout"
        }
      ]
    },
    {
      "cell_type": "code",
      "metadata": {
        "id": "TqsKiXG1N586"
      },
      "source": [
        "train_padded,test_padded,train_labels,test_labels=train_test_split(padded,labels,test_size=0.33,random_state=42)"
      ],
      "execution_count": null,
      "outputs": []
    },
    {
      "cell_type": "code",
      "metadata": {
        "id": "8jimMynvTcUZ"
      },
      "source": [
        "test_padded, Xval, test_labels, yval = train_test_split(test_padded, test_labels, test_size = 0.5)"
      ],
      "execution_count": null,
      "outputs": []
    },
    {
      "cell_type": "code",
      "metadata": {
        "colab": {
          "base_uri": "https://localhost:8080/"
        },
        "id": "VUK3tfFkTt2t",
        "outputId": "ea9cc705-e949-48be-bb8b-51b7b860cbfc"
      },
      "source": [
        "test_padded.shape, Xval.shape, test_labels.shape, yval.shape"
      ],
      "execution_count": null,
      "outputs": [
        {
          "output_type": "execute_result",
          "data": {
            "text/plain": [
              "((11218, 16), (11218, 16), (11218,), (11218,))"
            ]
          },
          "metadata": {
            "tags": []
          },
          "execution_count": 24
        }
      ]
    },
    {
      "cell_type": "code",
      "metadata": {
        "id": "cSiZudCAZlvP"
      },
      "source": [
        "train_padded = np.array(train_padded)\n",
        "train_labels = np.array(train_labels)\n",
        "test_padded = np.array(test_padded)\n",
        "test_labels = np.array(test_labels)\n",
        "Xval = np.array(Xval)\n",
        "yval = np.array(yval)"
      ],
      "execution_count": null,
      "outputs": []
    },
    {
      "cell_type": "code",
      "metadata": {
        "colab": {
          "base_uri": "https://localhost:8080/"
        },
        "id": "z7HsFJPsZpRp",
        "outputId": "8d552ae1-859d-4545-f2f2-8a9d63e161b0"
      },
      "source": [
        "train_padded"
      ],
      "execution_count": null,
      "outputs": [
        {
          "output_type": "execute_result",
          "data": {
            "text/plain": [
              "array([[ 129,  280,  192, ...,    0,    0,    0],\n",
              "       [  19,  128,    8, ...,    0,    0,    0],\n",
              "       [ 304,  462,    5, ...,    0,    0,    0],\n",
              "       ...,\n",
              "       [   3,   45,  722, ...,    0,    0,    0],\n",
              "       [   1,  102,   22, ...,    9,  235, 2223],\n",
              "       [   7, 1055,   64, ..., 2419,    0,    0]], dtype=int32)"
            ]
          },
          "metadata": {
            "tags": []
          },
          "execution_count": 26
        }
      ]
    },
    {
      "cell_type": "code",
      "metadata": {
        "id": "WZkYIafcZ7Lo"
      },
      "source": [
        "comment_list=list()\n",
        "lines=reviews_df['review_clean'].values.tolist()\n",
        "\n",
        "for line in lines:\n",
        "  tokens=word_tokenize(line)\n",
        "  comment_list.append(tokens)"
      ],
      "execution_count": null,
      "outputs": []
    },
    {
      "cell_type": "code",
      "metadata": {
        "colab": {
          "base_uri": "https://localhost:8080/",
          "height": 203
        },
        "id": "yOE9gKNDbBk1",
        "outputId": "de6dc308-5ad1-4c84-ff3a-c4a6aa060dde"
      },
      "source": [
        "reviews_df.head()"
      ],
      "execution_count": null,
      "outputs": [
        {
          "output_type": "execute_result",
          "data": {
            "text/html": [
              "<div>\n",
              "<style scoped>\n",
              "    .dataframe tbody tr th:only-of-type {\n",
              "        vertical-align: middle;\n",
              "    }\n",
              "\n",
              "    .dataframe tbody tr th {\n",
              "        vertical-align: top;\n",
              "    }\n",
              "\n",
              "    .dataframe thead th {\n",
              "        text-align: right;\n",
              "    }\n",
              "</style>\n",
              "<table border=\"1\" class=\"dataframe\">\n",
              "  <thead>\n",
              "    <tr style=\"text-align: right;\">\n",
              "      <th></th>\n",
              "      <th>sentiment</th>\n",
              "      <th>rating</th>\n",
              "      <th>title</th>\n",
              "      <th>body</th>\n",
              "      <th>review_clean</th>\n",
              "    </tr>\n",
              "  </thead>\n",
              "  <tbody>\n",
              "    <tr>\n",
              "      <th>0</th>\n",
              "      <td>0</td>\n",
              "      <td>3</td>\n",
              "      <td>Def not best, but not worst</td>\n",
              "      <td>I had the Samsung A600 for awhile which is abs...</td>\n",
              "      <td>samsung awhile absolute doo doo read review de...</td>\n",
              "    </tr>\n",
              "    <tr>\n",
              "      <th>1</th>\n",
              "      <td>0</td>\n",
              "      <td>1</td>\n",
              "      <td>Text Messaging Doesn't Work</td>\n",
              "      <td>Due to a software issue between Nokia and Spri...</td>\n",
              "      <td>due software issue nokia sprint phone's text m...</td>\n",
              "    </tr>\n",
              "    <tr>\n",
              "      <th>2</th>\n",
              "      <td>1</td>\n",
              "      <td>5</td>\n",
              "      <td>Love This Phone</td>\n",
              "      <td>This is a great, reliable phone. I also purcha...</td>\n",
              "      <td>great reliable phone also purchase phone samsu...</td>\n",
              "    </tr>\n",
              "    <tr>\n",
              "      <th>3</th>\n",
              "      <td>0</td>\n",
              "      <td>3</td>\n",
              "      <td>Love the Phone, BUT...!</td>\n",
              "      <td>I love the phone and all, because I really did...</td>\n",
              "      <td>love phone really need one expect price bill r...</td>\n",
              "    </tr>\n",
              "    <tr>\n",
              "      <th>4</th>\n",
              "      <td>1</td>\n",
              "      <td>4</td>\n",
              "      <td>Great phone service and options, lousy case!</td>\n",
              "      <td>The phone has been great for every purpose it ...</td>\n",
              "      <td>phone great every purpose offer except day buy...</td>\n",
              "    </tr>\n",
              "  </tbody>\n",
              "</table>\n",
              "</div>"
            ],
            "text/plain": [
              "   sentiment  ...                                       review_clean\n",
              "0          0  ...  samsung awhile absolute doo doo read review de...\n",
              "1          0  ...  due software issue nokia sprint phone's text m...\n",
              "2          1  ...  great reliable phone also purchase phone samsu...\n",
              "3          0  ...  love phone really need one expect price bill r...\n",
              "4          1  ...  phone great every purpose offer except day buy...\n",
              "\n",
              "[5 rows x 5 columns]"
            ]
          },
          "metadata": {
            "tags": []
          },
          "execution_count": 29
        }
      ]
    },
    {
      "cell_type": "code",
      "metadata": {
        "colab": {
          "base_uri": "https://localhost:8080/"
        },
        "id": "fT2tdweObLFN",
        "outputId": "d6e45578-af2d-4cde-d738-8460543c3306"
      },
      "source": [
        "print(len(comment_list))"
      ],
      "execution_count": null,
      "outputs": [
        {
          "output_type": "stream",
          "text": [
            "67986\n"
          ],
          "name": "stdout"
        }
      ]
    },
    {
      "cell_type": "code",
      "metadata": {
        "colab": {
          "base_uri": "https://localhost:8080/"
        },
        "id": "2XYqVIXqsPxk",
        "outputId": "9d934d2d-27d5-4dfd-8687-c0dd854a561e"
      },
      "source": [
        "import gensim\n",
        "model=gensim.models.Word2Vec(sentences=comment_list,size=100,window=5,workers=4,min_count=1)\n",
        "words=list(model.wv.vocab)\n",
        "print(len(words))"
      ],
      "execution_count": null,
      "outputs": [
        {
          "output_type": "stream",
          "text": [
            "36243\n"
          ],
          "name": "stdout"
        }
      ]
    },
    {
      "cell_type": "code",
      "metadata": {
        "colab": {
          "base_uri": "https://localhost:8080/"
        },
        "id": "KSBEKg25t1By",
        "outputId": "3e1ee866-4450-4ffc-815b-a0a724f08e63"
      },
      "source": [
        "model.wv.most_similar('man')"
      ],
      "execution_count": null,
      "outputs": [
        {
          "output_type": "execute_result",
          "data": {
            "text/plain": [
              "[('woman', 0.7671648859977722),\n",
              " ('boy', 0.710991382598877),\n",
              " ('girl', 0.7108829021453857),\n",
              " ('toy', 0.7099775075912476),\n",
              " ('commando', 0.6989731788635254),\n",
              " ('baby', 0.6851880550384521),\n",
              " ('mama', 0.6757761240005493),\n",
              " ('child', 0.674369215965271),\n",
              " ('girlfriend', 0.667829692363739),\n",
              " ('manly', 0.6653692722320557)]"
            ]
          },
          "metadata": {
            "tags": []
          },
          "execution_count": 32
        }
      ]
    },
    {
      "cell_type": "code",
      "metadata": {
        "id": "S36SAl_Du6UC"
      },
      "source": [
        "filename='comment_embedding_word2vec.txt'\n",
        "model.wv.save_word2vec_format(filename,binary=False)"
      ],
      "execution_count": null,
      "outputs": []
    },
    {
      "cell_type": "code",
      "metadata": {
        "id": "0fiHQhNbvtvK"
      },
      "source": [
        "embeddings_index={};\n",
        "with open('comment_embedding_word2vec.txt') as f:\n",
        "  for line in f:\n",
        "    values=line.split();\n",
        "    word=values[0];\n",
        "    coefs=np.asarray(values[1:],dtype='float32');\n",
        "    embeddings_index[word]=coefs;\n",
        "\n",
        "\n",
        "embeddings_matrix2=np.zeros((vocab_size+1,embedding_dim));\n",
        "for word,i in word_index.items():\n",
        "  embedding_vector=embeddings_index.get(word);\n",
        "  if embedding_vector is not None:\n",
        "    embeddings_matrix2[i]=embedding_vector;"
      ],
      "execution_count": null,
      "outputs": []
    },
    {
      "cell_type": "code",
      "metadata": {
        "colab": {
          "base_uri": "https://localhost:8080/"
        },
        "id": "B-NHnHzOb-l9",
        "outputId": "c4ce2541-3a83-4617-b232-f22c88e6cdda"
      },
      "source": [
        "print(embeddings_matrix2)"
      ],
      "execution_count": null,
      "outputs": [
        {
          "output_type": "stream",
          "text": [
            "[[ 0.00000000e+00  0.00000000e+00  0.00000000e+00 ...  0.00000000e+00\n",
            "   0.00000000e+00  0.00000000e+00]\n",
            " [-1.11038291e+00 -7.26984620e-01 -1.15612127e-01 ...  3.84337693e-01\n",
            "  -5.26549101e-01 -1.22144604e+00]\n",
            " [ 5.03770292e-01  7.65678644e-01  1.34118581e+00 ...  2.54751182e+00\n",
            "  -1.74883813e-01  3.26565981e-01]\n",
            " ...\n",
            " [-1.14263073e-02  1.36066983e-02 -4.74261632e-03 ...  1.44675346e-02\n",
            "   1.38439424e-02  1.08581213e-02]\n",
            " [-7.42369983e-03  1.93995563e-03 -1.74658454e-03 ...  4.89503238e-03\n",
            "   3.55439819e-03 -5.39794937e-03]\n",
            " [ 6.67431392e-03  1.09281717e-02 -9.88502614e-03 ...  3.02806757e-02\n",
            "  -7.25852966e-04  2.98999762e-03]]\n"
          ],
          "name": "stdout"
        }
      ]
    },
    {
      "cell_type": "markdown",
      "metadata": {
        "id": "aZ0dy_3C-ZmX"
      },
      "source": [
        "Build of neural netwok"
      ]
    },
    {
      "cell_type": "code",
      "metadata": {
        "colab": {
          "base_uri": "https://localhost:8080/"
        },
        "id": "61jQq1MalSVc",
        "outputId": "47798d0e-301f-44f2-87bf-abb146efd6c0"
      },
      "source": [
        "embeddings_matrix2.shape"
      ],
      "execution_count": null,
      "outputs": [
        {
          "output_type": "execute_result",
          "data": {
            "text/plain": [
              "(30439, 100)"
            ]
          },
          "metadata": {
            "tags": []
          },
          "execution_count": 36
        }
      ]
    },
    {
      "cell_type": "code",
      "metadata": {
        "colab": {
          "base_uri": "https://localhost:8080/"
        },
        "id": "F6TeVSO3F3j-",
        "outputId": "ff77c024-1508-4459-f2d6-f50cf4a1d66f"
      },
      "source": [
        "embeddings_matrix2[1]"
      ],
      "execution_count": null,
      "outputs": [
        {
          "output_type": "execute_result",
          "data": {
            "text/plain": [
              "array([-1.11038291, -0.72698462, -0.11561213,  0.80652612, -0.95590973,\n",
              "       -1.61658955, -0.0869565 , -0.3785699 ,  1.86318672,  0.33643663,\n",
              "        1.29514742, -0.25121382, -0.26539826, -1.67284715,  0.92462474,\n",
              "       -0.29598108,  1.15981102,  0.60798174, -0.09781678,  0.00577639,\n",
              "       -1.84442711, -0.18175291,  1.13723922, -0.61218715,  0.5441016 ,\n",
              "       -1.33510041,  0.87211752,  0.05114523,  1.0801971 ,  0.58852124,\n",
              "       -0.54166597, -0.335168  , -2.18167925,  0.05957774,  0.10216238,\n",
              "        0.35839948,  0.5283699 ,  0.36754337, -0.71267349, -0.32153672,\n",
              "       -1.41237462, -0.92149836,  1.1156286 ,  0.12336677,  2.35926819,\n",
              "        1.02784848, -0.28321967,  1.82823992, -1.10600102, -0.02234341,\n",
              "       -1.46150672,  0.0515752 , -1.24424529, -0.06193374, -2.80277634,\n",
              "       -1.5634371 ,  0.47423106, -0.62071323, -0.43851879,  0.36174187,\n",
              "        0.24377923, -0.87786484, -0.23159741,  1.26251304, -0.09520043,\n",
              "        0.23705319, -0.37321126,  0.16605012, -1.68169665, -0.33490494,\n",
              "       -0.24431571,  0.35756227, -0.74095303, -0.08200123,  0.67935807,\n",
              "        0.27357838, -1.23865235,  0.60416329, -1.27580333,  1.74502003,\n",
              "       -0.17912306, -0.27362439,  0.36203113,  0.99170077, -0.07485019,\n",
              "       -0.84181112,  0.65387541,  0.04233092, -0.85569739, -1.92102754,\n",
              "        0.0600152 , -0.3102259 , -0.17312694,  0.04315645,  0.69491059,\n",
              "        0.76317364, -0.39883861,  0.38433769, -0.5265491 , -1.22144604])"
            ]
          },
          "metadata": {
            "tags": []
          },
          "execution_count": 44
        }
      ]
    },
    {
      "cell_type": "code",
      "metadata": {
        "id": "0TiVrHGL-pGt",
        "colab": {
          "base_uri": "https://localhost:8080/",
          "height": 52
        },
        "outputId": "80b732d1-b64b-47b7-8cc2-a7008fb67ce8"
      },
      "source": [
        "import numpy as np\n",
        "df=pd.DataFrame(embeddings_matrix2)\n",
        "df.head()\n",
        "data=np.array(embeddings_matrix2)\n",
        "m,n=data.shape\n",
        "np.random.shuffle(data)\n",
        "\n",
        "\n",
        "data_dev=data[0:15000].T\n",
        "Y_dev=data_dev[0]\n",
        "X_dev=data_dev[1:n]\n",
        "\n",
        "data_train=data[15000:m].T\n",
        "Y_train=data_train[0]\n",
        "X_train=data_train[1:n]\n"
      ],
      "execution_count": null,
      "outputs": [
        {
          "output_type": "execute_result",
          "data": {
            "application/vnd.google.colaboratory.intrinsic+json": {
              "type": "string"
            },
            "text/plain": [
              "'data=np.array(embeddings_matrix2)\\nm,n=data.shape\\nnp.random.shuffle(data)\\n\\n\\ndata_dev=data[0:15000].T\\nY_dev=data_dev[0]\\nX_dev=data_dev[1:n]\\n\\ndata_train=data[15000:m].T\\nY_train=data_train[0]\\nX_train=data_train[1:n]\\n'"
            ]
          },
          "metadata": {
            "tags": []
          },
          "execution_count": 42
        }
      ]
    },
    {
      "cell_type": "code",
      "metadata": {
        "colab": {
          "base_uri": "https://localhost:8080/"
        },
        "id": "L3hnkAwQD4mV",
        "outputId": "4a8cd423-5197-48ff-abe7-1bdfa355d142"
      },
      "source": [
        "Y_train"
      ],
      "execution_count": null,
      "outputs": [
        {
          "output_type": "execute_result",
          "data": {
            "text/plain": [
              "array([-0.1820278 ,  0.        ,  0.02146918, ..., -0.02017742,\n",
              "       -0.01230215,  0.00272698])"
            ]
          },
          "metadata": {
            "tags": []
          },
          "execution_count": 38
        }
      ]
    },
    {
      "cell_type": "code",
      "metadata": {
        "colab": {
          "base_uri": "https://localhost:8080/"
        },
        "id": "yJRs5RH7FxnN",
        "outputId": "fff38d56-6618-4a8c-f873-039b60100cf3"
      },
      "source": [
        "X_train[0].shape"
      ],
      "execution_count": null,
      "outputs": [
        {
          "output_type": "execute_result",
          "data": {
            "text/plain": [
              "(29439,)"
            ]
          },
          "metadata": {
            "tags": []
          },
          "execution_count": 39
        }
      ]
    },
    {
      "cell_type": "code",
      "metadata": {
        "colab": {
          "base_uri": "https://localhost:8080/"
        },
        "id": "N7EcVGn9GKFn",
        "outputId": "2c36b30e-c2f7-4e90-e91d-540277400c11"
      },
      "source": [
        "X_train[:,0].shape"
      ],
      "execution_count": null,
      "outputs": [
        {
          "output_type": "execute_result",
          "data": {
            "text/plain": [
              "(99,)"
            ]
          },
          "metadata": {
            "tags": []
          },
          "execution_count": 40
        }
      ]
    },
    {
      "cell_type": "code",
      "metadata": {
        "id": "1SwUUtLsGdrF"
      },
      "source": [
        "import random\n",
        "import math\n",
        "def init_params():\n",
        "  w1=np.random.randn(2,99)-0.5\n",
        "  b1=np.random.randn(2,1)-0.5\n",
        "  w2=np.random.randn(2,2)-0.5\n",
        "  b2=np.random.randn(2,1)-0.5\n",
        "  return w1,b1,w2,b2\n",
        "\n",
        "def ReLu(Z):\n",
        "  return np.maximum(0,Z)\n",
        "\n",
        "def softmax(Z):\n",
        "\n",
        "  return np.exp(Z)/np.sum(np.exp(Z))\n",
        "\n",
        "\n",
        "def forward_prop(w1,b1,w2,b2,X):\n",
        "  Z1=X.dot(w1)+b1\n",
        "  A1=ReLu(Z1)\n",
        "  print(A1)\n",
        "  print(A1.shape)\n",
        "  Z2=w2.dot(A1)+b2\n",
        "  A2=softmax(A1)\n",
        "  return Z1,A1,Z2,A2\n",
        "\n",
        "def one_hot(Y):\n",
        "  n_col=int(np.amax(Y))+1\n",
        "  binarized=np.zeros((len(Y),int(Y.max())+1))\n",
        "  binarized[np.arange(len(Y),Y.any())]=1\n",
        "  binarized=binarized.T\n",
        "  return binarized\n",
        "\n",
        "def deriv_ReLU(Z):\n",
        "  return Z>0\n",
        "\n",
        "def back_prop(Z1,A1,Z2,A2,w2,X,Y):\n",
        "  m=Y.size\n",
        "  one_hot_Y=one_hot(Y)\n",
        "  dZ2=A2*(one_hot_Y.T)\n",
        "  dW2=1/m*dZ2.dot(A1.T)\n",
        "  db2=1/m*np.sum(dZ2,2)\n",
        "  dZ1=w2.T.dot(dZ2)*deriv_ReLU(Z1)\n",
        "  dw1=1/m*dZ1.dot(X.T)\n",
        "  db1=1/m*np.sum(dz1,2)\n",
        "  return dw1,db1,dw2,db2\n",
        "  \n",
        "\n",
        "def update_params(w1,b1,w2,b2,alpha):\n",
        "  w1=w1-alpha*dw1\n",
        "  b1=b1-alpha*db1\n",
        "  w2=w2-alpha*dw2\n",
        "  b2=b2-alpha*db2\n",
        "  return w1,b1,w2,b2\n",
        "\n",
        "def get_predictions(A2):\n",
        "  return np.argmax(A2,0)\n",
        "\n",
        "def get_accuracy(predictions,Y):\n",
        "  print(predictions,Y)\n",
        "  return np.sum(predictions==Y)/Y.size\n",
        "\n",
        "def gradient_descent(X,Y,iterations,alpha):\n",
        "  w1,b1,w2,b2=init_params()\n",
        "  #for i in range(iterations):\n",
        "  Z1,A1,Z2,A2=forward_prop(w1,b1,w2,b2,X)\n",
        "  dw1,db1,dw2,db2=back_prop(Z1,A1,Z2,A2,w2,X,Y)\n",
        "  w1,b1,w2,b2=update_params(w1,b1,w2,b2,alpha)\n",
        "    #if i%10==0:\n",
        "  print(\"Iterations:\",i)\n",
        "  print(\"Accuracy\",get_accuracy(get_predictions(A2),Y))\n",
        "  return w1,b1,w2,b2\n",
        "\n",
        "w1,b1,w2,b2=gradient_descent(X_train,Y_train,10,0.001)"
      ],
      "execution_count": null,
      "outputs": []
    },
    {
      "cell_type": "code",
      "metadata": {
        "id": "4nvV_WJ-6I66"
      },
      "source": [
        ""
      ],
      "execution_count": null,
      "outputs": []
    }
  ]
}